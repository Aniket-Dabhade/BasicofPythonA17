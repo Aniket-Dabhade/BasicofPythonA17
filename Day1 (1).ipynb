{
 "cells": [
  {
   "cell_type": "code",
   "execution_count": 1,
   "id": "7a0f9d28",
   "metadata": {},
   "outputs": [],
   "source": [
    "a=20\n",
    "#a=variable\n",
    "#assignment operatore\n",
    "#20=data"
   ]
  },
  {
   "cell_type": "code",
   "execution_count": 2,
   "id": "4b6d87da",
   "metadata": {},
   "outputs": [
    {
     "data": {
      "text/plain": [
       "20"
      ]
     },
     "execution_count": 2,
     "metadata": {},
     "output_type": "execute_result"
    }
   ],
   "source": [
    "\n",
    "a\n"
   ]
  },
  {
   "cell_type": "code",
   "execution_count": 3,
   "id": "981cd400",
   "metadata": {},
   "outputs": [
    {
     "name": "stdout",
     "output_type": "stream",
     "text": [
      "20\n"
     ]
    }
   ],
   "source": [
    "print(a)"
   ]
  },
  {
   "cell_type": "code",
   "execution_count": 4,
   "id": "83435363",
   "metadata": {},
   "outputs": [],
   "source": [
    "a='Aniket'"
   ]
  },
  {
   "cell_type": "code",
   "execution_count": 5,
   "id": "1f81ba54",
   "metadata": {},
   "outputs": [
    {
     "data": {
      "text/plain": [
       "'Aniket'"
      ]
     },
     "execution_count": 5,
     "metadata": {},
     "output_type": "execute_result"
    }
   ],
   "source": [
    "\n",
    "a\n"
   ]
  },
  {
   "cell_type": "code",
   "execution_count": 11,
   "id": "77cb11da",
   "metadata": {},
   "outputs": [],
   "source": [
    "a='Aniket'\n",
    "b='Dabhade'\n",
    "c=a+b"
   ]
  },
  {
   "cell_type": "code",
   "execution_count": 12,
   "id": "449b045c",
   "metadata": {},
   "outputs": [
    {
     "data": {
      "text/plain": [
       "'AniketDabhade'"
      ]
     },
     "execution_count": 12,
     "metadata": {},
     "output_type": "execute_result"
    }
   ],
   "source": [
    "\n",
    "c\n"
   ]
  },
  {
   "cell_type": "code",
   "execution_count": 14,
   "id": "400112b6",
   "metadata": {},
   "outputs": [
    {
     "name": "stdout",
     "output_type": "stream",
     "text": [
      "Aniket\n",
      "Dabhade\n"
     ]
    }
   ],
   "source": [
    "print(\"Aniket\\nDabhade\")"
   ]
  },
  {
   "cell_type": "code",
   "execution_count": 15,
   "id": "aebd7a0e",
   "metadata": {},
   "outputs": [
    {
     "name": "stdout",
     "output_type": "stream",
     "text": [
      "Aniket\tdabhade\n"
     ]
    }
   ],
   "source": [
    "print(\"Aniket\\tdabhade\")"
   ]
  },
  {
   "cell_type": "code",
   "execution_count": 16,
   "id": "29291565",
   "metadata": {},
   "outputs": [],
   "source": [
    "a=20"
   ]
  },
  {
   "cell_type": "code",
   "execution_count": 17,
   "id": "67aa5239",
   "metadata": {},
   "outputs": [
    {
     "data": {
      "text/plain": [
       "int"
      ]
     },
     "execution_count": 17,
     "metadata": {},
     "output_type": "execute_result"
    }
   ],
   "source": [
    "\n",
    "type(a)\n"
   ]
  },
  {
   "cell_type": "code",
   "execution_count": 18,
   "id": "d53ba817",
   "metadata": {},
   "outputs": [],
   "source": [
    "a='Aniket'"
   ]
  },
  {
   "cell_type": "code",
   "execution_count": 19,
   "id": "281ea910",
   "metadata": {},
   "outputs": [
    {
     "data": {
      "text/plain": [
       "str"
      ]
     },
     "execution_count": 19,
     "metadata": {},
     "output_type": "execute_result"
    }
   ],
   "source": [
    "type(a)"
   ]
  },
  {
   "cell_type": "code",
   "execution_count": null,
   "id": "88b36f09",
   "metadata": {},
   "outputs": [],
   "source": []
  }
 ],
 "metadata": {
  "kernelspec": {
   "display_name": "Python 3 (ipykernel)",
   "language": "python",
   "name": "python3"
  },
  "language_info": {
   "codemirror_mode": {
    "name": "ipython",
    "version": 3
   },
   "file_extension": ".py",
   "mimetype": "text/x-python",
   "name": "python",
   "nbconvert_exporter": "python",
   "pygments_lexer": "ipython3",
   "version": "3.9.7"
  }
 },
 "nbformat": 4,
 "nbformat_minor": 5
}
