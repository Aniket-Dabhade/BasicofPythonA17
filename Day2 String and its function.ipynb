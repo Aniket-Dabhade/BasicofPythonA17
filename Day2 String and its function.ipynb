{
 "cells": [
  {
   "cell_type": "code",
   "execution_count": 1,
   "id": "d70e372f",
   "metadata": {},
   "outputs": [
    {
     "data": {
      "text/plain": [
       "'A'"
      ]
     },
     "execution_count": 1,
     "metadata": {},
     "output_type": "execute_result"
    }
   ],
   "source": [
    "a='Aniket'\n",
    "a[0]#positive indexing"
   ]
  },
  {
   "cell_type": "code",
   "execution_count": 2,
   "id": "25657147",
   "metadata": {},
   "outputs": [
    {
     "data": {
      "text/plain": [
       "'i'"
      ]
     },
     "execution_count": 2,
     "metadata": {},
     "output_type": "execute_result"
    }
   ],
   "source": [
    "a[2]"
   ]
  },
  {
   "cell_type": "code",
   "execution_count": 3,
   "id": "f6c0afd2",
   "metadata": {},
   "outputs": [
    {
     "data": {
      "text/plain": [
       "'t'"
      ]
     },
     "execution_count": 3,
     "metadata": {},
     "output_type": "execute_result"
    }
   ],
   "source": [
    "a[-1]#negative indexing "
   ]
  },
  {
   "cell_type": "code",
   "execution_count": 7,
   "id": "f934b42c",
   "metadata": {},
   "outputs": [
    {
     "data": {
      "text/plain": [
       "'Anik'"
      ]
     },
     "execution_count": 7,
     "metadata": {},
     "output_type": "execute_result"
    }
   ],
   "source": [
    "a[0:4]#slicing"
   ]
  },
  {
   "cell_type": "code",
   "execution_count": 8,
   "id": "389d1490",
   "metadata": {},
   "outputs": [
    {
     "data": {
      "text/plain": [
       "'An'"
      ]
     },
     "execution_count": 8,
     "metadata": {},
     "output_type": "execute_result"
    }
   ],
   "source": [
    "a[:2]#inclusive slicing"
   ]
  },
  {
   "cell_type": "code",
   "execution_count": 9,
   "id": "0194d2c9",
   "metadata": {},
   "outputs": [
    {
     "data": {
      "text/plain": [
       "'iket'"
      ]
     },
     "execution_count": 9,
     "metadata": {},
     "output_type": "execute_result"
    }
   ],
   "source": [
    "a[2:]#exclusive slicing"
   ]
  },
  {
   "cell_type": "code",
   "execution_count": 10,
   "id": "4382b900",
   "metadata": {},
   "outputs": [],
   "source": [
    "#dot operator"
   ]
  },
  {
   "cell_type": "code",
   "execution_count": 11,
   "id": "77221088",
   "metadata": {},
   "outputs": [],
   "source": [
    "a='Aniket'"
   ]
  },
  {
   "cell_type": "code",
   "execution_count": 12,
   "id": "f8600726",
   "metadata": {},
   "outputs": [
    {
     "data": {
      "text/plain": [
       "'ANIKET'"
      ]
     },
     "execution_count": 12,
     "metadata": {},
     "output_type": "execute_result"
    }
   ],
   "source": [
    "a.upper()"
   ]
  },
  {
   "cell_type": "code",
   "execution_count": 14,
   "id": "3690c7f2",
   "metadata": {},
   "outputs": [
    {
     "data": {
      "text/plain": [
       "'aniket'"
      ]
     },
     "execution_count": 14,
     "metadata": {},
     "output_type": "execute_result"
    }
   ],
   "source": [
    "a.lower()"
   ]
  },
  {
   "cell_type": "code",
   "execution_count": 15,
   "id": "56d34cfe",
   "metadata": {},
   "outputs": [
    {
     "data": {
      "text/plain": [
       "'Bniket'"
      ]
     },
     "execution_count": 15,
     "metadata": {},
     "output_type": "execute_result"
    }
   ],
   "source": [
    "a.replace('A','B')"
   ]
  },
  {
   "cell_type": "code",
   "execution_count": 16,
   "id": "884df7cd",
   "metadata": {},
   "outputs": [
    {
     "data": {
      "text/plain": [
       "1"
      ]
     },
     "execution_count": 16,
     "metadata": {},
     "output_type": "execute_result"
    }
   ],
   "source": [
    "a.count('i')"
   ]
  },
  {
   "cell_type": "code",
   "execution_count": 17,
   "id": "3a515cad",
   "metadata": {},
   "outputs": [
    {
     "data": {
      "text/plain": [
       "5"
      ]
     },
     "execution_count": 17,
     "metadata": {},
     "output_type": "execute_result"
    }
   ],
   "source": [
    "a.find('t')"
   ]
  },
  {
   "cell_type": "code",
   "execution_count": 18,
   "id": "de2b312c",
   "metadata": {},
   "outputs": [
    {
     "data": {
      "text/plain": [
       "['An', 'ket']"
      ]
     },
     "execution_count": 18,
     "metadata": {},
     "output_type": "execute_result"
    }
   ],
   "source": [
    "a.split('i')"
   ]
  },
  {
   "cell_type": "code",
   "execution_count": null,
   "id": "cc73a2b4",
   "metadata": {},
   "outputs": [],
   "source": []
  }
 ],
 "metadata": {
  "kernelspec": {
   "display_name": "Python 3 (ipykernel)",
   "language": "python",
   "name": "python3"
  },
  "language_info": {
   "codemirror_mode": {
    "name": "ipython",
    "version": 3
   },
   "file_extension": ".py",
   "mimetype": "text/x-python",
   "name": "python",
   "nbconvert_exporter": "python",
   "pygments_lexer": "ipython3",
   "version": "3.9.7"
  }
 },
 "nbformat": 4,
 "nbformat_minor": 5
}
