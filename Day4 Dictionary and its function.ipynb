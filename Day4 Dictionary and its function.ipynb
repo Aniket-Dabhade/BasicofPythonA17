{
 "cells": [
  {
   "cell_type": "markdown",
   "id": "105d5df7",
   "metadata": {},
   "source": [
    "# Dictionary"
   ]
  },
  {
   "cell_type": "markdown",
   "id": "95253284",
   "metadata": {},
   "source": [
    "Dictionary is a part of Data structure"
   ]
  },
  {
   "cell_type": "code",
   "execution_count": 1,
   "id": "75778301",
   "metadata": {},
   "outputs": [],
   "source": [
    "D={\"Ashish\":10,\"Vikram\":20,\"Satish\":33,\"Ajmat\":40}"
   ]
  },
  {
   "cell_type": "code",
   "execution_count": 2,
   "id": "ce0361c9",
   "metadata": {},
   "outputs": [
    {
     "data": {
      "text/plain": [
       "dict"
      ]
     },
     "execution_count": 2,
     "metadata": {},
     "output_type": "execute_result"
    }
   ],
   "source": [
    "type(D)"
   ]
  },
  {
   "cell_type": "code",
   "execution_count": 3,
   "id": "377218e7",
   "metadata": {},
   "outputs": [
    {
     "data": {
      "text/plain": [
       "{'Ashish': 10, 'Vikram': 20, 'Satish': 33, 'Ajmat': 40}"
      ]
     },
     "execution_count": 3,
     "metadata": {},
     "output_type": "execute_result"
    }
   ],
   "source": [
    "D"
   ]
  },
  {
   "cell_type": "code",
   "execution_count": 6,
   "id": "cb29d309",
   "metadata": {},
   "outputs": [
    {
     "data": {
      "text/plain": [
       "4"
      ]
     },
     "execution_count": 6,
     "metadata": {},
     "output_type": "execute_result"
    }
   ],
   "source": [
    "len(D)"
   ]
  },
  {
   "cell_type": "code",
   "execution_count": 7,
   "id": "90499c2e",
   "metadata": {},
   "outputs": [
    {
     "name": "stdout",
     "output_type": "stream",
     "text": [
      "{'Ashish': 10, 'Vikram': 20, 'Satish': 33, 'Ajmat': 40}\n"
     ]
    }
   ],
   "source": [
    "print(D)"
   ]
  },
  {
   "cell_type": "code",
   "execution_count": 8,
   "id": "41b4fffa",
   "metadata": {},
   "outputs": [
    {
     "data": {
      "text/plain": [
       "dict_keys(['Ashish', 'Vikram', 'Satish', 'Ajmat'])"
      ]
     },
     "execution_count": 8,
     "metadata": {},
     "output_type": "execute_result"
    }
   ],
   "source": [
    "#eXTRACTING THE KEYS FROM DICTIONARIES\n",
    "D={\"Ashish\":10,\"Vikram\":20,\"Satish\":33,\"Ajmat\":40}\n",
    "D.keys()\n"
   ]
  },
  {
   "cell_type": "code",
   "execution_count": 9,
   "id": "364d9a10",
   "metadata": {},
   "outputs": [
    {
     "data": {
      "text/plain": [
       "dict_values([10, 20, 33, 40])"
      ]
     },
     "execution_count": 9,
     "metadata": {},
     "output_type": "execute_result"
    }
   ],
   "source": [
    "#Extracting the values from Dictionaries\n",
    "D={\"Ashish\":10,\"Vikram\":20,\"Satish\":33,\"Ajmat\":40}\n",
    "D.values()"
   ]
  },
  {
   "cell_type": "code",
   "execution_count": 10,
   "id": "a70150c2",
   "metadata": {},
   "outputs": [
    {
     "name": "stdout",
     "output_type": "stream",
     "text": [
      "{'Ashish': 10, 'Vikram': 20, 'Satish': 33, 'Ajmat': 40, 'Salman': 60}\n"
     ]
    }
   ],
   "source": [
    "#Adding a new element to Dictionary\n",
    "D={\"Ashish\":10,\"Vikram\":20,\"Satish\":33,\"Ajmat\":40}\n",
    "D[\"Salman\"]=60\n",
    "print(D)"
   ]
  },
  {
   "cell_type": "code",
   "execution_count": 11,
   "id": "2d90d02b",
   "metadata": {},
   "outputs": [
    {
     "name": "stdout",
     "output_type": "stream",
     "text": [
      "{'Ashish': 50, 'Vikram': 20, 'Satish': 33, 'Ajmat': 40}\n"
     ]
    }
   ],
   "source": [
    "#Changing an element to python Dictionaries\n",
    "D={\"Ashish\":10,\"Vikram\":20,\"Satish\":33,\"Ajmat\":40}\n",
    "D[\"Ashish\"]=50\n",
    "print(D)"
   ]
  },
  {
   "cell_type": "code",
   "execution_count": 12,
   "id": "5c653c93",
   "metadata": {},
   "outputs": [
    {
     "name": "stdout",
     "output_type": "stream",
     "text": [
      "{'Ashish': 10, 'Vikram': 20, 'Satish': 33, 'Ajmat': 40}\n"
     ]
    }
   ],
   "source": [
    "#Update one dictionary element with another Dictionaries\n",
    "D1={\"Ashish\":10,\"Vikram\":20}\n",
    "D2={\"Satish\":33,\"Ajmat\":40}\n",
    "D1.update(D2)\n",
    "print(D1)"
   ]
  },
  {
   "cell_type": "code",
   "execution_count": 19,
   "id": "b4cbf09b",
   "metadata": {},
   "outputs": [
    {
     "name": "stdout",
     "output_type": "stream",
     "text": [
      "{'Ashish': 10, 'Satish': 33, 'Ajmat': 40}\n"
     ]
    }
   ],
   "source": [
    "#Popping element Dicitonaries\n",
    "D={\"Ashish\":10,\"Vikram\":20,\"Satish\":33,\"Ajmat\":40}\n",
    "D.pop(\"Vikram\")\n",
    "print(D)"
   ]
  },
  {
   "cell_type": "code",
   "execution_count": null,
   "id": "b5266f9c",
   "metadata": {},
   "outputs": [],
   "source": []
  }
 ],
 "metadata": {
  "kernelspec": {
   "display_name": "Python 3 (ipykernel)",
   "language": "python",
   "name": "python3"
  },
  "language_info": {
   "codemirror_mode": {
    "name": "ipython",
    "version": 3
   },
   "file_extension": ".py",
   "mimetype": "text/x-python",
   "name": "python",
   "nbconvert_exporter": "python",
   "pygments_lexer": "ipython3",
   "version": "3.9.7"
  }
 },
 "nbformat": 4,
 "nbformat_minor": 5
}
